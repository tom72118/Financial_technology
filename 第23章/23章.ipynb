{
 "cells": [
  {
   "cell_type": "markdown",
   "metadata": {},
   "source": [
    "# 23.1 時間序列\n",
    "## 序列種類\n",
    "#### 1. 橫斷面資料 不同個體在同一時間的屬性或特徵變數的數據\n",
    "        ex:同一年度這些公司的淨收益\n",
    "#### 2. 時間序列資料 同一個個體的某個特徵隨時間推移不斷發展的過程\n",
    "        ex:股票的日收盤價\n",
    "#### 3. 追蹤資料 不同個體的某個特徵隨時間的推移各自變化的過程\n",
    "        ex:所有上市公司股票每天的日收益率\n",
    "## 時間序列分析涉及以下幾個內容\n",
    "#### 1. 資料有哪些基本特徵\n",
    "#### 2. 資料是否有規律可循\n",
    "#### 3. 如果有規律，該如何透過模型找到規律並說明他\n",
    "#### 4. 多個時間序列之間是否存在某種關聯 該如何刻劃關聯\n",
    "#### 5. 如何利用歷史資料表現的規律對未來進行預測"
   ]
  },
  {
   "cell_type": "markdown",
   "metadata": {},
   "source": [
    "# 23.2 Python時間序列資料"
   ]
  },
  {
   "cell_type": "code",
   "execution_count": 7,
   "metadata": {},
   "outputs": [
    {
     "data": {
      "text/html": [
       "<div>\n",
       "<style scoped>\n",
       "    .dataframe tbody tr th:only-of-type {\n",
       "        vertical-align: middle;\n",
       "    }\n",
       "\n",
       "    .dataframe tbody tr th {\n",
       "        vertical-align: top;\n",
       "    }\n",
       "\n",
       "    .dataframe thead th {\n",
       "        text-align: right;\n",
       "    }\n",
       "</style>\n",
       "<table border=\"1\" class=\"dataframe\">\n",
       "  <thead>\n",
       "    <tr style=\"text-align: right;\">\n",
       "      <th></th>\n",
       "      <th>Unnamed: 0</th>\n",
       "      <th>Date</th>\n",
       "      <th>Open</th>\n",
       "      <th>High</th>\n",
       "      <th>Low</th>\n",
       "      <th>Close</th>\n",
       "      <th>Volume</th>\n",
       "    </tr>\n",
       "  </thead>\n",
       "  <tbody>\n",
       "    <tr>\n",
       "      <th>0</th>\n",
       "      <td>0</td>\n",
       "      <td>2014-01-02</td>\n",
       "      <td>8618.60</td>\n",
       "      <td>8632.81</td>\n",
       "      <td>8587.54</td>\n",
       "      <td>8612.54</td>\n",
       "      <td>4462792</td>\n",
       "    </tr>\n",
       "    <tr>\n",
       "      <th>1</th>\n",
       "      <td>1</td>\n",
       "      <td>2014-01-03</td>\n",
       "      <td>8584.74</td>\n",
       "      <td>8584.74</td>\n",
       "      <td>8537.86</td>\n",
       "      <td>8546.54</td>\n",
       "      <td>4406184</td>\n",
       "    </tr>\n",
       "    <tr>\n",
       "      <th>2</th>\n",
       "      <td>2</td>\n",
       "      <td>2014-01-06</td>\n",
       "      <td>8553.00</td>\n",
       "      <td>8568.24</td>\n",
       "      <td>8488.64</td>\n",
       "      <td>8500.01</td>\n",
       "      <td>4556810</td>\n",
       "    </tr>\n",
       "    <tr>\n",
       "      <th>3</th>\n",
       "      <td>3</td>\n",
       "      <td>2014-01-07</td>\n",
       "      <td>8515.36</td>\n",
       "      <td>8547.19</td>\n",
       "      <td>8512.30</td>\n",
       "      <td>8512.30</td>\n",
       "      <td>4489316</td>\n",
       "    </tr>\n",
       "    <tr>\n",
       "      <th>4</th>\n",
       "      <td>4</td>\n",
       "      <td>2014-01-08</td>\n",
       "      <td>8548.61</td>\n",
       "      <td>8587.08</td>\n",
       "      <td>8548.61</td>\n",
       "      <td>8556.01</td>\n",
       "      <td>5447851</td>\n",
       "    </tr>\n",
       "  </tbody>\n",
       "</table>\n",
       "</div>"
      ],
      "text/plain": [
       "   Unnamed: 0        Date     Open     High      Low    Close   Volume\n",
       "0           0  2014-01-02  8618.60  8632.81  8587.54  8612.54  4462792\n",
       "1           1  2014-01-03  8584.74  8584.74  8537.86  8546.54  4406184\n",
       "2           2  2014-01-06  8553.00  8568.24  8488.64  8500.01  4556810\n",
       "3           3  2014-01-07  8515.36  8547.19  8512.30  8512.30  4489316\n",
       "4           4  2014-01-08  8548.61  8587.08  8548.61  8556.01  5447851"
      ]
     },
     "execution_count": 7,
     "metadata": {},
     "output_type": "execute_result"
    }
   ],
   "source": [
    "import pandas as pd\n",
    "taiex = pd.read_csv('taiex.csv',sep='\\t')\n",
    "taiex.head()"
   ]
  },
  {
   "cell_type": "code",
   "execution_count": 8,
   "metadata": {},
   "outputs": [
    {
     "data": {
      "text/plain": [
       "pandas.core.frame.DataFrame"
      ]
     },
     "execution_count": 8,
     "metadata": {},
     "output_type": "execute_result"
    }
   ],
   "source": [
    "#數據類型\n",
    "type(taiex)"
   ]
  },
  {
   "cell_type": "code",
   "execution_count": 9,
   "metadata": {},
   "outputs": [
    {
     "data": {
      "text/plain": [
       "0    8612.54\n",
       "1    8546.54\n",
       "2    8500.01\n",
       "3    8512.30\n",
       "4    8556.01\n",
       "Name: Close, dtype: float64"
      ]
     },
     "execution_count": 9,
     "metadata": {},
     "output_type": "execute_result"
    }
   ],
   "source": [
    "#取收盤數據\n",
    "Close = taiex['Close']\n",
    "Close.head()"
   ]
  },
  {
   "cell_type": "code",
   "execution_count": 10,
   "metadata": {},
   "outputs": [
    {
     "data": {
      "text/plain": [
       "pandas.core.series.Series"
      ]
     },
     "execution_count": 10,
     "metadata": {},
     "output_type": "execute_result"
    }
   ],
   "source": [
    "type(Close)"
   ]
  },
  {
   "cell_type": "code",
   "execution_count": 11,
   "metadata": {},
   "outputs": [
    {
     "data": {
      "text/plain": [
       "pandas.core.indexes.range.RangeIndex"
      ]
     },
     "execution_count": 11,
     "metadata": {},
     "output_type": "execute_result"
    }
   ],
   "source": [
    "type(Close.index)"
   ]
  },
  {
   "cell_type": "code",
   "execution_count": 12,
   "metadata": {},
   "outputs": [
    {
     "data": {
      "text/plain": [
       "Date\n",
       "2014-01-02    8612.54\n",
       "2014-01-03    8546.54\n",
       "2014-01-06    8500.01\n",
       "2014-01-07    8512.30\n",
       "2014-01-08    8556.01\n",
       "Name: Close, dtype: float64"
      ]
     },
     "execution_count": 12,
     "metadata": {},
     "output_type": "execute_result"
    }
   ],
   "source": [
    "#將收盤指數轉換成時間序列格式\n",
    "Close.index = pd.to_datetime(taiex['Date'])\n",
    "Close.head()"
   ]
  },
  {
   "cell_type": "code",
   "execution_count": 13,
   "metadata": {},
   "outputs": [
    {
     "data": {
      "text/plain": [
       "<matplotlib.axes._subplots.AxesSubplot at 0xb947448>"
      ]
     },
     "execution_count": 13,
     "metadata": {},
     "output_type": "execute_result"
    },
    {
     "data": {
      "image/png": "[encoded data removed]",
      "text/plain": [
       "<Figure size 432x288 with 1 Axes>"
      ]
     },
     "metadata": {
      "needs_background": "light"
     },
     "output_type": "display_data"
    }
   ],
   "source": [
    "#繪製時間序列圖\n",
    "Close.plot()"
   ]
  },
  {
   "cell_type": "markdown",
   "metadata": {},
   "source": [
    "# 23.3選定特定日期的時間序列資料"
   ]
  },
  {
   "cell_type": "code",
   "execution_count": 15,
   "metadata": {},
   "outputs": [
    {
     "data": {
      "text/html": [
       "<div>\n",
       "<style scoped>\n",
       "    .dataframe tbody tr th:only-of-type {\n",
       "        vertical-align: middle;\n",
       "    }\n",
       "\n",
       "    .dataframe tbody tr th {\n",
       "        vertical-align: top;\n",
       "    }\n",
       "\n",
       "    .dataframe thead th {\n",
       "        text-align: right;\n",
       "    }\n",
       "</style>\n",
       "<table border=\"1\" class=\"dataframe\">\n",
       "  <thead>\n",
       "    <tr style=\"text-align: right;\">\n",
       "      <th></th>\n",
       "      <th>Unnamed: 0</th>\n",
       "      <th>Date</th>\n",
       "      <th>Open</th>\n",
       "      <th>High</th>\n",
       "      <th>Low</th>\n",
       "      <th>Close</th>\n",
       "      <th>Volume</th>\n",
       "    </tr>\n",
       "    <tr>\n",
       "      <th>Date</th>\n",
       "      <th></th>\n",
       "      <th></th>\n",
       "      <th></th>\n",
       "      <th></th>\n",
       "      <th></th>\n",
       "      <th></th>\n",
       "      <th></th>\n",
       "    </tr>\n",
       "  </thead>\n",
       "  <tbody>\n",
       "    <tr>\n",
       "      <th>2014-01-02</th>\n",
       "      <td>0</td>\n",
       "      <td>2014-01-02</td>\n",
       "      <td>8618.60</td>\n",
       "      <td>8632.81</td>\n",
       "      <td>8587.54</td>\n",
       "      <td>8612.54</td>\n",
       "      <td>4462792</td>\n",
       "    </tr>\n",
       "    <tr>\n",
       "      <th>2014-01-03</th>\n",
       "      <td>1</td>\n",
       "      <td>2014-01-03</td>\n",
       "      <td>8584.74</td>\n",
       "      <td>8584.74</td>\n",
       "      <td>8537.86</td>\n",
       "      <td>8546.54</td>\n",
       "      <td>4406184</td>\n",
       "    </tr>\n",
       "    <tr>\n",
       "      <th>2014-01-06</th>\n",
       "      <td>2</td>\n",
       "      <td>2014-01-06</td>\n",
       "      <td>8553.00</td>\n",
       "      <td>8568.24</td>\n",
       "      <td>8488.64</td>\n",
       "      <td>8500.01</td>\n",
       "      <td>4556810</td>\n",
       "    </tr>\n",
       "    <tr>\n",
       "      <th>2014-01-07</th>\n",
       "      <td>3</td>\n",
       "      <td>2014-01-07</td>\n",
       "      <td>8515.36</td>\n",
       "      <td>8547.19</td>\n",
       "      <td>8512.30</td>\n",
       "      <td>8512.30</td>\n",
       "      <td>4489316</td>\n",
       "    </tr>\n",
       "    <tr>\n",
       "      <th>2014-01-08</th>\n",
       "      <td>4</td>\n",
       "      <td>2014-01-08</td>\n",
       "      <td>8548.61</td>\n",
       "      <td>8587.08</td>\n",
       "      <td>8548.61</td>\n",
       "      <td>8556.01</td>\n",
       "      <td>5447851</td>\n",
       "    </tr>\n",
       "  </tbody>\n",
       "</table>\n",
       "</div>"
      ],
      "text/plain": [
       "            Unnamed: 0        Date     Open     High      Low    Close  \\\n",
       "Date                                                                     \n",
       "2014-01-02           0  2014-01-02  8618.60  8632.81  8587.54  8612.54   \n",
       "2014-01-03           1  2014-01-03  8584.74  8584.74  8537.86  8546.54   \n",
       "2014-01-06           2  2014-01-06  8553.00  8568.24  8488.64  8500.01   \n",
       "2014-01-07           3  2014-01-07  8515.36  8547.19  8512.30  8512.30   \n",
       "2014-01-08           4  2014-01-08  8548.61  8587.08  8548.61  8556.01   \n",
       "\n",
       "             Volume  \n",
       "Date                 \n",
       "2014-01-02  4462792  \n",
       "2014-01-03  4406184  \n",
       "2014-01-06  4556810  \n",
       "2014-01-07  4489316  \n",
       "2014-01-08  5447851  "
      ]
     },
     "execution_count": 15,
     "metadata": {},
     "output_type": "execute_result"
    }
   ],
   "source": [
    "taiex.index = pd.to_datetime(taiex['Date'])\n",
    "taiex.head()"
   ]
  },
  {
   "cell_type": "code",
   "execution_count": 17,
   "metadata": {},
   "outputs": [
    {
     "data": {
      "text/html": [
       "<div>\n",
       "<style scoped>\n",
       "    .dataframe tbody tr th:only-of-type {\n",
       "        vertical-align: middle;\n",
       "    }\n",
       "\n",
       "    .dataframe tbody tr th {\n",
       "        vertical-align: top;\n",
       "    }\n",
       "\n",
       "    .dataframe thead th {\n",
       "        text-align: right;\n",
       "    }\n",
       "</style>\n",
       "<table border=\"1\" class=\"dataframe\">\n",
       "  <thead>\n",
       "    <tr style=\"text-align: right;\">\n",
       "      <th></th>\n",
       "      <th>Date</th>\n",
       "      <th>Open</th>\n",
       "      <th>High</th>\n",
       "      <th>Low</th>\n",
       "      <th>Close</th>\n",
       "      <th>Volume</th>\n",
       "    </tr>\n",
       "    <tr>\n",
       "      <th>Date</th>\n",
       "      <th></th>\n",
       "      <th></th>\n",
       "      <th></th>\n",
       "      <th></th>\n",
       "      <th></th>\n",
       "      <th></th>\n",
       "    </tr>\n",
       "  </thead>\n",
       "  <tbody>\n",
       "    <tr>\n",
       "      <th>2014-01-02</th>\n",
       "      <td>2014-01-02</td>\n",
       "      <td>8618.60</td>\n",
       "      <td>8632.81</td>\n",
       "      <td>8587.54</td>\n",
       "      <td>8612.54</td>\n",
       "      <td>4462792</td>\n",
       "    </tr>\n",
       "    <tr>\n",
       "      <th>2014-01-03</th>\n",
       "      <td>2014-01-03</td>\n",
       "      <td>8584.74</td>\n",
       "      <td>8584.74</td>\n",
       "      <td>8537.86</td>\n",
       "      <td>8546.54</td>\n",
       "      <td>4406184</td>\n",
       "    </tr>\n",
       "    <tr>\n",
       "      <th>2014-01-06</th>\n",
       "      <td>2014-01-06</td>\n",
       "      <td>8553.00</td>\n",
       "      <td>8568.24</td>\n",
       "      <td>8488.64</td>\n",
       "      <td>8500.01</td>\n",
       "      <td>4556810</td>\n",
       "    </tr>\n",
       "    <tr>\n",
       "      <th>2014-01-07</th>\n",
       "      <td>2014-01-07</td>\n",
       "      <td>8515.36</td>\n",
       "      <td>8547.19</td>\n",
       "      <td>8512.30</td>\n",
       "      <td>8512.30</td>\n",
       "      <td>4489316</td>\n",
       "    </tr>\n",
       "    <tr>\n",
       "      <th>2014-01-08</th>\n",
       "      <td>2014-01-08</td>\n",
       "      <td>8548.61</td>\n",
       "      <td>8587.08</td>\n",
       "      <td>8548.61</td>\n",
       "      <td>8556.01</td>\n",
       "      <td>5447851</td>\n",
       "    </tr>\n",
       "  </tbody>\n",
       "</table>\n",
       "</div>"
      ],
      "text/plain": [
       "                  Date     Open     High      Low    Close   Volume\n",
       "Date                                                               \n",
       "2014-01-02  2014-01-02  8618.60  8632.81  8587.54  8612.54  4462792\n",
       "2014-01-03  2014-01-03  8584.74  8584.74  8537.86  8546.54  4406184\n",
       "2014-01-06  2014-01-06  8553.00  8568.24  8488.64  8500.01  4556810\n",
       "2014-01-07  2014-01-07  8515.36  8547.19  8512.30  8512.30  4489316\n",
       "2014-01-08  2014-01-08  8548.61  8587.08  8548.61  8556.01  5447851"
      ]
     },
     "execution_count": 17,
     "metadata": {},
     "output_type": "execute_result"
    }
   ],
   "source": [
    "taiex = taiex.iloc[:,1:]\n",
    "taiex.head()"
   ]
  },
  {
   "cell_type": "code",
   "execution_count": 21,
   "metadata": {},
   "outputs": [
    {
     "data": {
      "text/html": [
       "<div>\n",
       "<style scoped>\n",
       "    .dataframe tbody tr th:only-of-type {\n",
       "        vertical-align: middle;\n",
       "    }\n",
       "\n",
       "    .dataframe tbody tr th {\n",
       "        vertical-align: top;\n",
       "    }\n",
       "\n",
       "    .dataframe thead th {\n",
       "        text-align: right;\n",
       "    }\n",
       "</style>\n",
       "<table border=\"1\" class=\"dataframe\">\n",
       "  <thead>\n",
       "    <tr style=\"text-align: right;\">\n",
       "      <th></th>\n",
       "      <th>Date</th>\n",
       "      <th>Open</th>\n",
       "      <th>High</th>\n",
       "      <th>Low</th>\n",
       "      <th>Close</th>\n",
       "      <th>Volume</th>\n",
       "    </tr>\n",
       "    <tr>\n",
       "      <th>Date</th>\n",
       "      <th></th>\n",
       "      <th></th>\n",
       "      <th></th>\n",
       "      <th></th>\n",
       "      <th></th>\n",
       "      <th></th>\n",
       "    </tr>\n",
       "  </thead>\n",
       "  <tbody>\n",
       "    <tr>\n",
       "      <th>2015-10-08</th>\n",
       "      <td>2015-10-08</td>\n",
       "      <td>8528.46</td>\n",
       "      <td>8544.93</td>\n",
       "      <td>8434.50</td>\n",
       "      <td>8445.96</td>\n",
       "      <td>4582747</td>\n",
       "    </tr>\n",
       "    <tr>\n",
       "      <th>2015-10-12</th>\n",
       "      <td>2015-10-12</td>\n",
       "      <td>8478.34</td>\n",
       "      <td>8578.22</td>\n",
       "      <td>8478.34</td>\n",
       "      <td>8573.72</td>\n",
       "      <td>4663975</td>\n",
       "    </tr>\n",
       "    <tr>\n",
       "      <th>2015-10-13</th>\n",
       "      <td>2015-10-13</td>\n",
       "      <td>8571.57</td>\n",
       "      <td>8574.11</td>\n",
       "      <td>8518.41</td>\n",
       "      <td>8567.92</td>\n",
       "      <td>4628841</td>\n",
       "    </tr>\n",
       "    <tr>\n",
       "      <th>2015-10-14</th>\n",
       "      <td>2015-10-14</td>\n",
       "      <td>8545.14</td>\n",
       "      <td>8553.87</td>\n",
       "      <td>8515.53</td>\n",
       "      <td>8522.51</td>\n",
       "      <td>4661254</td>\n",
       "    </tr>\n",
       "    <tr>\n",
       "      <th>2015-10-15</th>\n",
       "      <td>2015-10-15</td>\n",
       "      <td>8573.38</td>\n",
       "      <td>8652.47</td>\n",
       "      <td>8573.38</td>\n",
       "      <td>8601.52</td>\n",
       "      <td>4925269</td>\n",
       "    </tr>\n",
       "  </tbody>\n",
       "</table>\n",
       "</div>"
      ],
      "text/plain": [
       "                  Date     Open     High      Low    Close   Volume\n",
       "Date                                                               \n",
       "2015-10-08  2015-10-08  8528.46  8544.93  8434.50  8445.96  4582747\n",
       "2015-10-12  2015-10-12  8478.34  8578.22  8478.34  8573.72  4663975\n",
       "2015-10-13  2015-10-13  8571.57  8574.11  8518.41  8567.92  4628841\n",
       "2015-10-14  2015-10-14  8545.14  8553.87  8515.53  8522.51  4661254\n",
       "2015-10-15  2015-10-15  8573.38  8652.47  8573.38  8601.52  4925269"
      ]
     },
     "execution_count": 21,
     "metadata": {},
     "output_type": "execute_result"
    }
   ],
   "source": [
    "#擷取特定期間資料\n",
    "taiexPart = taiex['2015-10-08':'2015-10-31']\n",
    "taiexPart.head()"
   ]
  },
  {
   "cell_type": "code",
   "execution_count": 33,
   "metadata": {},
   "outputs": [
    {
     "data": {
      "text/html": [
       "<div>\n",
       "<style scoped>\n",
       "    .dataframe tbody tr th:only-of-type {\n",
       "        vertical-align: middle;\n",
       "    }\n",
       "\n",
       "    .dataframe tbody tr th {\n",
       "        vertical-align: top;\n",
       "    }\n",
       "\n",
       "    .dataframe thead th {\n",
       "        text-align: right;\n",
       "    }\n",
       "</style>\n",
       "<table border=\"1\" class=\"dataframe\">\n",
       "  <thead>\n",
       "    <tr style=\"text-align: right;\">\n",
       "      <th></th>\n",
       "      <th>Date</th>\n",
       "      <th>Open</th>\n",
       "      <th>High</th>\n",
       "      <th>Low</th>\n",
       "      <th>Close</th>\n",
       "      <th>Volume</th>\n",
       "    </tr>\n",
       "    <tr>\n",
       "      <th>Date</th>\n",
       "      <th></th>\n",
       "      <th></th>\n",
       "      <th></th>\n",
       "      <th></th>\n",
       "      <th></th>\n",
       "      <th></th>\n",
       "    </tr>\n",
       "  </thead>\n",
       "  <tbody>\n",
       "    <tr>\n",
       "      <th>2015-12-25</th>\n",
       "      <td>2015-12-25</td>\n",
       "      <td>8328.94</td>\n",
       "      <td>8364.30</td>\n",
       "      <td>8320.10</td>\n",
       "      <td>8363.28</td>\n",
       "      <td>2699121</td>\n",
       "    </tr>\n",
       "    <tr>\n",
       "      <th>2015-12-28</th>\n",
       "      <td>2015-12-28</td>\n",
       "      <td>8374.18</td>\n",
       "      <td>8394.60</td>\n",
       "      <td>8358.49</td>\n",
       "      <td>8358.49</td>\n",
       "      <td>2661228</td>\n",
       "    </tr>\n",
       "    <tr>\n",
       "      <th>2015-12-29</th>\n",
       "      <td>2015-12-29</td>\n",
       "      <td>8349.27</td>\n",
       "      <td>8351.16</td>\n",
       "      <td>8286.84</td>\n",
       "      <td>8293.91</td>\n",
       "      <td>2947257</td>\n",
       "    </tr>\n",
       "    <tr>\n",
       "      <th>2015-12-30</th>\n",
       "      <td>2015-12-30</td>\n",
       "      <td>8313.37</td>\n",
       "      <td>8342.34</td>\n",
       "      <td>8262.52</td>\n",
       "      <td>8279.99</td>\n",
       "      <td>3048259</td>\n",
       "    </tr>\n",
       "    <tr>\n",
       "      <th>2015-12-31</th>\n",
       "      <td>2015-12-31</td>\n",
       "      <td>8273.77</td>\n",
       "      <td>8338.06</td>\n",
       "      <td>8258.73</td>\n",
       "      <td>8338.06</td>\n",
       "      <td>2499013</td>\n",
       "    </tr>\n",
       "  </tbody>\n",
       "</table>\n",
       "</div>"
      ],
      "text/plain": [
       "                  Date     Open     High      Low    Close   Volume\n",
       "Date                                                               \n",
       "2015-12-25  2015-12-25  8328.94  8364.30  8320.10  8363.28  2699121\n",
       "2015-12-28  2015-12-28  8374.18  8394.60  8358.49  8358.49  2661228\n",
       "2015-12-29  2015-12-29  8349.27  8351.16  8286.84  8293.91  2947257\n",
       "2015-12-30  2015-12-30  8313.37  8342.34  8262.52  8279.99  3048259\n",
       "2015-12-31  2015-12-31  8273.77  8338.06  8258.73  8338.06  2499013"
      ]
     },
     "execution_count": 33,
     "metadata": {},
     "output_type": "execute_result"
    }
   ],
   "source": [
    "#2015年的資料\n",
    "taiex2015 = taiex['2015']\n",
    "taiex2015.tail()"
   ]
  },
  {
   "cell_type": "code",
   "execution_count": 36,
   "metadata": {},
   "outputs": [
    {
     "data": {
      "text/html": [
       "<div>\n",
       "<style scoped>\n",
       "    .dataframe tbody tr th:only-of-type {\n",
       "        vertical-align: middle;\n",
       "    }\n",
       "\n",
       "    .dataframe tbody tr th {\n",
       "        vertical-align: top;\n",
       "    }\n",
       "\n",
       "    .dataframe thead th {\n",
       "        text-align: right;\n",
       "    }\n",
       "</style>\n",
       "<table border=\"1\" class=\"dataframe\">\n",
       "  <thead>\n",
       "    <tr style=\"text-align: right;\">\n",
       "      <th></th>\n",
       "      <th>Date</th>\n",
       "      <th>Open</th>\n",
       "      <th>High</th>\n",
       "      <th>Low</th>\n",
       "      <th>Close</th>\n",
       "      <th>Volume</th>\n",
       "    </tr>\n",
       "    <tr>\n",
       "      <th>Date</th>\n",
       "      <th></th>\n",
       "      <th></th>\n",
       "      <th></th>\n",
       "      <th></th>\n",
       "      <th></th>\n",
       "      <th></th>\n",
       "    </tr>\n",
       "  </thead>\n",
       "  <tbody>\n",
       "    <tr>\n",
       "      <th>2014-09-01</th>\n",
       "      <td>2014-09-01</td>\n",
       "      <td>9474.41</td>\n",
       "      <td>9532.66</td>\n",
       "      <td>9472.96</td>\n",
       "      <td>9513.06</td>\n",
       "      <td>5171496</td>\n",
       "    </tr>\n",
       "    <tr>\n",
       "      <th>2014-09-02</th>\n",
       "      <td>2014-09-02</td>\n",
       "      <td>9503.65</td>\n",
       "      <td>9503.65</td>\n",
       "      <td>9388.13</td>\n",
       "      <td>9399.72</td>\n",
       "      <td>5498915</td>\n",
       "    </tr>\n",
       "    <tr>\n",
       "      <th>2014-09-03</th>\n",
       "      <td>2014-09-03</td>\n",
       "      <td>9434.88</td>\n",
       "      <td>9455.78</td>\n",
       "      <td>9396.79</td>\n",
       "      <td>9450.35</td>\n",
       "      <td>5333115</td>\n",
       "    </tr>\n",
       "    <tr>\n",
       "      <th>2014-09-04</th>\n",
       "      <td>2014-09-04</td>\n",
       "      <td>9439.76</td>\n",
       "      <td>9439.76</td>\n",
       "      <td>9389.29</td>\n",
       "      <td>9428.89</td>\n",
       "      <td>4648234</td>\n",
       "    </tr>\n",
       "    <tr>\n",
       "      <th>2014-09-05</th>\n",
       "      <td>2014-09-05</td>\n",
       "      <td>9446.45</td>\n",
       "      <td>9451.39</td>\n",
       "      <td>9365.70</td>\n",
       "      <td>9407.94</td>\n",
       "      <td>4286784</td>\n",
       "    </tr>\n",
       "  </tbody>\n",
       "</table>\n",
       "</div>"
      ],
      "text/plain": [
       "                  Date     Open     High      Low    Close   Volume\n",
       "Date                                                               \n",
       "2014-09-01  2014-09-01  9474.41  9532.66  9472.96  9513.06  5171496\n",
       "2014-09-02  2014-09-02  9503.65  9503.65  9388.13  9399.72  5498915\n",
       "2014-09-03  2014-09-03  9434.88  9455.78  9396.79  9450.35  5333115\n",
       "2014-09-04  2014-09-04  9439.76  9439.76  9389.29  9428.89  4648234\n",
       "2014-09-05  2014-09-05  9446.45  9451.39  9365.70  9407.94  4286784"
      ]
     },
     "execution_count": 36,
     "metadata": {},
     "output_type": "execute_result"
    }
   ],
   "source": [
    "#2014 9月到年底資料\n",
    "taiex9End = taiex['2014-09':'2014']\n",
    "taiex9End.head()"
   ]
  },
  {
   "cell_type": "markdown",
   "metadata": {},
   "source": [
    "# 23.4 時間序列資料敘述性統計"
   ]
  },
  {
   "cell_type": "code",
   "execution_count": 37,
   "metadata": {},
   "outputs": [
    {
     "data": {
      "text/plain": [
       "Date\n",
       "2014-01-02    8612.54\n",
       "2014-01-03    8546.54\n",
       "2014-01-06    8500.01\n",
       "2014-01-07    8512.30\n",
       "2014-01-08    8556.01\n",
       "Name: Close, dtype: float64"
      ]
     },
     "execution_count": 37,
     "metadata": {},
     "output_type": "execute_result"
    }
   ],
   "source": [
    "Close.head()"
   ]
  },
  {
   "cell_type": "code",
   "execution_count": 40,
   "metadata": {},
   "outputs": [
    {
     "data": {
      "text/plain": [
       "<matplotlib.axes._subplots.AxesSubplot at 0xc714048>"
      ]
     },
     "execution_count": 40,
     "metadata": {},
     "output_type": "execute_result"
    },
    {
     "data": {
      "image/png": "[encoded data removed]",
      "text/plain": [
       "<Figure size 432x288 with 1 Axes>"
      ]
     },
     "metadata": {
      "needs_background": "light"
     },
     "output_type": "display_data"
    }
   ],
   "source": [
    "#直方圖\n",
    "Close.hist()"
   ]
  },
  {
   "cell_type": "code",
   "execution_count": 41,
   "metadata": {},
   "outputs": [
    {
     "data": {
      "text/plain": [
       "9973.12"
      ]
     },
     "execution_count": 41,
     "metadata": {},
     "output_type": "execute_result"
    }
   ],
   "source": [
    "Close.max()  #最大"
   ]
  },
  {
   "cell_type": "code",
   "execution_count": 42,
   "metadata": {},
   "outputs": [
    {
     "data": {
      "text/plain": [
       "8975.81046747968"
      ]
     },
     "execution_count": 42,
     "metadata": {},
     "output_type": "execute_result"
    }
   ],
   "source": [
    "Close.mean() #平均"
   ]
  },
  {
   "cell_type": "code",
   "execution_count": 43,
   "metadata": {},
   "outputs": [
    {
     "data": {
      "text/plain": [
       "7410.34"
      ]
     },
     "execution_count": 43,
     "metadata": {},
     "output_type": "execute_result"
    }
   ],
   "source": [
    "Close.min() #最小"
   ]
  },
  {
   "cell_type": "code",
   "execution_count": 44,
   "metadata": {},
   "outputs": [
    {
     "data": {
      "text/plain": [
       "9002.19"
      ]
     },
     "execution_count": 44,
     "metadata": {},
     "output_type": "execute_result"
    }
   ],
   "source": [
    "Close.median() #中位數"
   ]
  },
  {
   "cell_type": "code",
   "execution_count": 45,
   "metadata": {},
   "outputs": [
    {
     "data": {
      "text/plain": [
       "476.94625169135"
      ]
     },
     "execution_count": 45,
     "metadata": {},
     "output_type": "execute_result"
    }
   ],
   "source": [
    "Close.std() #標準差"
   ]
  },
  {
   "cell_type": "code",
   "execution_count": 46,
   "metadata": {},
   "outputs": [
    {
     "data": {
      "text/plain": [
       "count     492.000000\n",
       "mean     8975.810467\n",
       "std       476.946252\n",
       "min      7410.340000\n",
       "25%      8599.502500\n",
       "50%      9002.190000\n",
       "75%      9370.940000\n",
       "max      9973.120000\n",
       "Name: Close, dtype: float64"
      ]
     },
     "execution_count": 46,
     "metadata": {},
     "output_type": "execute_result"
    }
   ],
   "source": [
    "Close.describe() "
   ]
  },
  {
   "cell_type": "code",
   "execution_count": null,
   "metadata": {},
   "outputs": [],
   "source": []
  }
 ],
 "metadata": {
  "kernelspec": {
   "display_name": "Python 3",
   "language": "python",
   "name": "python3"
  },
  "language_info": {
   "codemirror_mode": {
    "name": "ipython",
    "version": 3
   },
   "file_extension": ".py",
   "mimetype": "text/x-python",
   "name": "python",
   "nbconvert_exporter": "python",
   "pygments_lexer": "ipython3",
   "version": "3.7.6"
  }
 },
 "nbformat": 4,
 "nbformat_minor": 4
}
